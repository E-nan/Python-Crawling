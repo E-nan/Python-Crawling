{
 "cells": [
  {
   "cell_type": "markdown",
   "metadata": {},
   "source": [
    "# 깃허브 크롤링 테스트\n",
    "### 깃허브의 아이디를 입력하면\n",
    "### 해당 깃허브의 Repository 갯수와 제목, 부제를 크롤링하는 프로그램\n",
    "#### ex)https://github.com/E-nan <<이런 형식의 링크 입력"
   ]
  },
  {
   "cell_type": "markdown",
   "metadata": {},
   "source": [
    "***\n",
    "### 라이브러리"
   ]
  },
  {
   "cell_type": "code",
   "execution_count": 34,
   "metadata": {},
   "outputs": [],
   "source": [
    "import urllib.request\n",
    "from bs4 import BeautifulSoup"
   ]
  },
  {
   "cell_type": "markdown",
   "metadata": {},
   "source": [
    "***\n",
    "### 해당 링크 응답함수"
   ]
  },
  {
   "cell_type": "code",
   "execution_count": 35,
   "metadata": {},
   "outputs": [],
   "source": [
    "def url_res(url):\n",
    "    request = urllib.request.Request(url)\n",
    "    response = urllib.request.urlopen(request)\n",
    "    rescode = response.getcode()\n",
    "    #print(rescode)\n",
    "    if(rescode==200):\n",
    "        response_body = response.read()\n",
    "        xmlsoup = BeautifulSoup(response_body,'html.parser')\n",
    "        return xmlsoup\n",
    "    else:\n",
    "        return None"
   ]
  },
  {
   "cell_type": "markdown",
   "metadata": {},
   "source": [
    "입력한 url의 응답이 정상인지 확인하고, 정상이면 xmlsoup를 반환한다."
   ]
  },
  {
   "cell_type": "markdown",
   "metadata": {},
   "source": [
    "***\n",
    "### 공백 제거와 하나의 딕셔너리로 만들기 위한 함수"
   ]
  },
  {
   "cell_type": "code",
   "execution_count": 36,
   "metadata": {},
   "outputs": [],
   "source": [
    "def del_space(data1, data2):\n",
    "    a = ''.join(data1.split())\n",
    "    b = ''.join(data2.split())\n",
    "    data = {a:b}\n",
    "    return data"
   ]
  },
  {
   "cell_type": "markdown",
   "metadata": {},
   "source": [
    "Repository의 제목과 부제를 뽑아서 하나의 딕셔너리로 만들고 반환한다."
   ]
  },
  {
   "cell_type": "markdown",
   "metadata": {},
   "source": [
    "***\n",
    "### Repository의 갯수와 각 제목 및 부제를 구하기 위한 함수"
   ]
  },
  {
   "cell_type": "code",
   "execution_count": 37,
   "metadata": {},
   "outputs": [],
   "source": [
    "def rep_num():\n",
    "    try:\n",
    "        xmlsoup = url_res(url)\n",
    "        name = url.split('/')\n",
    "        pagePart = xmlsoup.find('ol', {'class': 'd-flex flex-wrap list-style-none gutter-condensed mb-4'})\n",
    "        anchorNumber = pagePart.find_all({'li': 'class'})\n",
    "        number = len(anchorNumber)\n",
    "        print(name[3] + ' 님의 Repository 개수 : ' , number)\n",
    "    \n",
    "        test = pagePart.find_all('li')\n",
    "        for alist in test:\n",
    "            rep_name = alist.find('a').text\n",
    "            rep_info = alist.find('p').text\n",
    "            results = del_space(rep_name, rep_info)\n",
    "            print(results)\n",
    "    \n",
    "    except:\n",
    "        print('유효하지 않은 링크입니다.')"
   ]
  },
  {
   "cell_type": "markdown",
   "metadata": {},
   "source": [
    "url이 정상이면 url에서 /를 기준으로 문자열을 자르고 닉네임을 추출한다.\n",
    "그리고 Repository의 개수를 구하고 제목과 부제를 추출한다."
   ]
  },
  {
   "cell_type": "markdown",
   "metadata": {},
   "source": [
    "***\n",
    "### 메인\n",
    "#### 1.링크를 잘못 입력한 경우"
   ]
  },
  {
   "cell_type": "code",
   "execution_count": 38,
   "metadata": {},
   "outputs": [
    {
     "name": "stdout",
     "output_type": "stream",
     "text": [
      "깃허브 아이디를 입력해주세요. : 123\n",
      "유효하지 않은 링크입니다.\n"
     ]
    }
   ],
   "source": [
    "if __name__ == '__main__':\n",
    "    url = input('깃허브 아이디를 입력해주세요. : ')\n",
    "    \n",
    "    rnum = rep_num()"
   ]
  },
  {
   "cell_type": "markdown",
   "metadata": {},
   "source": [
    "#### 2.링크를 제대로 입력한 경우"
   ]
  },
  {
   "cell_type": "code",
   "execution_count": 39,
   "metadata": {},
   "outputs": [
    {
     "name": "stdout",
     "output_type": "stream",
     "text": [
      "깃허브 아이디를 입력해주세요. : E-nan\n",
      "E-nan 님의 Repository 개수 :  6\n",
      "{'Polytech': '깃허브테스트'}\n",
      "{'Review': '파이썬리뷰'}\n",
      "{'PolyDormi': '인천폴리텍대학기숙사관리프로그램'}\n",
      "{'2048': '조별과제)JAVA로만든2048게임'}\n",
      "{'TCP-IP': '조별과제)C#으로만든TCP/IP통신프로그램'}\n",
      "{'PythonCrawling': '조별과제)파이썬크롤링을이용한네이버뉴스기사수집및분석(진행중)'}\n"
     ]
    }
   ],
   "source": [
    "if __name__ == '__main__':\n",
    "    url1 = 'http://github.com/'\n",
    "    url2 = input('깃허브 아이디를 입력해주세요. : ')\n",
    "    url = url1 + url2\n",
    "    \n",
    "    rnum = rep_num()"
   ]
  },
  {
   "cell_type": "code",
   "execution_count": null,
   "metadata": {},
   "outputs": [],
   "source": []
  }
 ],
 "metadata": {
  "kernelspec": {
   "display_name": "Python 3",
   "language": "python",
   "name": "python3"
  },
  "language_info": {
   "codemirror_mode": {
    "name": "ipython",
    "version": 3
   },
   "file_extension": ".py",
   "mimetype": "text/x-python",
   "name": "python",
   "nbconvert_exporter": "python",
   "pygments_lexer": "ipython3",
   "version": "3.6.4"
  }
 },
 "nbformat": 4,
 "nbformat_minor": 2
}
