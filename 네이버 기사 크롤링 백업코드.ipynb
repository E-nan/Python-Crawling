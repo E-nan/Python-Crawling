{
 "cells": [
  {
   "cell_type": "markdown",
   "metadata": {},
   "source": [
    "# 네이버 기사 크롤링 테스트\n",
    "## 네이버 기사 사회 - 교육면에서 모든 날짜의 기사를 크롤링\n",
    "### 기본 라이브러리 임포트"
   ]
  },
  {
   "cell_type": "code",
   "execution_count": 10,
   "metadata": {},
   "outputs": [],
   "source": [
    "import urllib.request\n",
    "from bs4 import BeautifulSoup\n",
    "\n",
    "import os #환경 변수나 디렉터리, 파일 등의 OS 자원을 제어할 수 있게 해주는 모듈\n",
    "import sys #파이썬 파일을 실행할 때, 자기 자신의 파일명이 들어간다\n",
    "import datetime #날짜관련 모듈\n",
    "import csv"
   ]
  },
  {
   "cell_type": "markdown",
   "metadata": {},
   "source": [
    "네이버 사회면 : sid1 = 102,<br>\n",
    "사회면 중 교육: sid2 = 250"
   ]
  },
  {
   "cell_type": "code",
   "execution_count": 11,
   "metadata": {},
   "outputs": [],
   "source": [
    "url = 'https://news.naver.com/main/list.nhn?mode=LS2D&mid=shm&sid1=102&sid2=250&listType=title'"
   ]
  },
  {
   "cell_type": "markdown",
   "metadata": {},
   "source": [
    "크롤링한 데이터를 저장할 파일 설정 - csv형태로 저장<br>\n",
    "open(파일경로, 모드)<br>\n",
    "모드 : r - 파일읽기 / w - 파일에 기록 / a - 파일에 데이터 추가 / x - 파일에 기록"
   ]
  },
  {
   "cell_type": "code",
   "execution_count": 12,
   "metadata": {},
   "outputs": [
    {
     "name": "stdout",
     "output_type": "stream",
     "text": [
      "NAVER1.csv\n"
     ]
    }
   ],
   "source": [
    "filename = 'NAVER1.csv'\n",
    "f = open(filename, 'w', encoding = 'utf-8', newline = '')\n",
    "wr = csv.writer(f)\n",
    "print(filename)"
   ]
  },
  {
   "cell_type": "markdown",
   "metadata": {},
   "source": [
    "### 각 월별로 크롤링할때 월마다 날짜가 다르기 때문에 설정해야됨\n",
    "#### 네이버 기사에서 날짜를 1월1일일때 0101로 인식하기 때문에 \n",
    "#### 10이하 월/일 앞에 0을 붙여줘야함\n",
    "\n",
    "* <월별로 최대 날짜 설정>\n",
    "    * 1,3,5,7,8,10,12 월은 31일\n",
    "    * 4,6,9,11 월은 30일\n",
    "    * 2월은 28일"
   ]
  },
  {
   "cell_type": "markdown",
   "metadata": {},
   "source": [
    "***\n",
    "## 첫 코드 원본"
   ]
  },
  {
   "cell_type": "markdown",
   "metadata": {},
   "source": [
    "```\n",
    "global days\n",
    "global url_date\n",
    "\n",
    "#def zeroday():\n",
    "#    if days<10:             #날짜가 10 이하일경우 앞에 0 추가\n",
    "#        Bdate = '0'+str(days)\n",
    "#    else:                   #그외 날짜는 그대로 저장\n",
    "#        Bdate = str(days)\n",
    "        \n",
    "def urlstack():\n",
    "    date = '2019' + str(Adate) + str(Bdate)\n",
    "    url_date = url + '&date=' + date\n",
    "    print(url_date)\n",
    "\n",
    "for mons in range(1,13,1):      #최대 12얼까지 있기때문에 13으로 설정\n",
    "    if mons<10:                 #월이 10 이하일 경우 앞에 0 추가\n",
    "        Adate = '0' + str(mons)\n",
    "    else:\n",
    "        Adate = str(mons)\n",
    "    \n",
    "    if mons%2 != 0 and mons<8 or mons%2 == 0 and mons>7:     \n",
    "        print('---')\n",
    "        for days in range(1,32,1):  #최대 31일까지 있기때문에 32로 설정\n",
    "            if days<10:             #날짜가 10 이하일경우 앞에 0 추가\n",
    "                Bdate = '0'+str(days)\n",
    "            else:                   #그외 날짜는 그대로 저장\n",
    "                Bdate = str(days)\n",
    "            urlstack()\n",
    "    elif mons == 2:                 #2월의 날짜는 혼자다름 \n",
    "        print('---')\n",
    "        for days in range(1,29,1):  \n",
    "            if days<10:             #날짜가 10 이하일경우 앞에 0 추가\n",
    "                Bdate = '0'+str(days)\n",
    "            else:                   #그외 날짜는 그대로 저장\n",
    "                Bdate = str(days)\n",
    "            urlstack()\n",
    "    elif mons%2 ==0 and mons<7 or mons%2 !=0 and mons>8:   \n",
    "        print('---')\n",
    "        for days in range(1,31,1):  #최대 30일까지 있기때문에 31로 설정\n",
    "            if days<10:             #날짜가 10 이하일경우 앞에 0 추가\n",
    "                Bdate = '0'+str(days)\n",
    "            else:                   #그외 날짜는 그대로 저장\n",
    "                Bdate = str(days)\n",
    "            urlstack()\n",
    "```"
   ]
  },
  {
   "cell_type": "markdown",
   "metadata": {},
   "source": [
    "request로 페이지의 응답을 받아오는데\n",
    "```\n",
    "import requests\n",
    "request = requests.get('http://www.naver.com/')\n",
    "```\n",
    "로 요청하여 print(request)를 하면 ```<Response [200]>``` 가나온다.<br>\n",
    "그냥 200과는 다른방식"
   ]
  },
  {
   "cell_type": "markdown",
   "metadata": {},
   "source": [
    "***\n",
    "## 함수를 이용해 줄인 코드 1차"
   ]
  },
  {
   "cell_type": "markdown",
   "metadata": {},
   "source": [
    "```\n",
    "def zeroday():\n",
    "    if days<10:             #날짜가 10 이하일경우 앞에 0 추가\n",
    "        Bdate = '0'+str(days)\n",
    "    else:                   #그외 날짜는 그대로 저장\n",
    "        Bdate = str(days)\n",
    "        \n",
    "def urlstack():\n",
    "    date = '2019' + str(Adate) + str(Bdate)\n",
    "    url_date = url + '&date=' + date\n",
    "    print(url_date)\n",
    "    \n",
    "def fordays():\n",
    "    global days                   #전역변수를 지역 범위에서 사용하고 싶으면 global사용\n",
    "    for days in range(1,days,1):  #최대 31일까지 있기때문에 32로 설정\n",
    "            zeroday()\n",
    "            urlstack()\n",
    "\n",
    "for mons in range(1,13,1):      #최대 12얼까지 있기때문에 13으로 설정\n",
    "    if mons<10:                 #월이 10 이하일 경우 앞에 0 추가\n",
    "        Adate = '0' + str(mons)\n",
    "    else:\n",
    "        Adate = str(mons)\n",
    "    \n",
    "    if mons%2 != 0 and mons<8 or mons%2 == 0 and mons>7:     \n",
    "        print('---')\n",
    "        days = 32\n",
    "        fordays()\n",
    "    elif mons == 2:                 #2월의 날짜는 혼자다름 \n",
    "        print('---')\n",
    "        days = 28\n",
    "        fordays()\n",
    "    elif mons%2 ==0 and mons<7 or mons%2 !=0 and mons>8:   \n",
    "        print('---')\n",
    "        days = 31\n",
    "        fordays()\n",
    "```"
   ]
  },
  {
   "cell_type": "markdown",
   "metadata": {},
   "source": [
    "***\n",
    "## 함수를 이용해 줄인 코드 2차"
   ]
  },
  {
   "cell_type": "code",
   "execution_count": 13,
   "metadata": {},
   "outputs": [],
   "source": [
    "def urlres(url):\n",
    "    \n",
    "    request = urllib.request.Request(url_date)\n",
    "    response = urllib.request.urlopen(request)\n",
    "    rescode = response.getcode()\n",
    "    \n",
    "    if(rescode==200): #코드가 정상이면 200 즉, 200일때 실행\n",
    "        response_body = response.read()\n",
    "        xmlsoup = BeautifulSoup(response_body, 'html.parser')\n",
    "        return xmlsoup\n",
    "    else:\n",
    "        return None"
   ]
  },
  {
   "cell_type": "code",
   "execution_count": 21,
   "metadata": {},
   "outputs": [
    {
     "ename": "IndentationError",
     "evalue": "expected an indented block (<ipython-input-21-4ac36c5a0769>, line 34)",
     "output_type": "error",
     "traceback": [
      "\u001b[1;36m  File \u001b[1;32m\"<ipython-input-21-4ac36c5a0769>\"\u001b[1;36m, line \u001b[1;32m34\u001b[0m\n\u001b[1;33m    if days<10:             #날짜가 10 이하일경우 앞에 0 추가\u001b[0m\n\u001b[1;37m     ^\u001b[0m\n\u001b[1;31mIndentationError\u001b[0m\u001b[1;31m:\u001b[0m expected an indented block\n"
     ]
    }
   ],
   "source": [
    "'''\n",
    "def urlstack():\n",
    "    if days<10:             #날짜가 10 이하일경우 앞에 0 추가\n",
    "        Bdate = '0'+str(days)\n",
    "    else:                   #그외 날짜는 그대로 저장\n",
    "        Bdate = str(days)\n",
    "    date = '2019' + str(Adate) + str(Bdate)\n",
    "    url_date = url + '&date=' + date\n",
    "    print(url_date)\n",
    "    \n",
    "    xmlsoup = urlres(url_date)\n",
    "    pagePart = xmlsoup.find('div',{'class':'paging'})\n",
    "    anchorNumber = pagePart.find_all({'a':'href'})\n",
    "    pageNumber = len(anchorNumber) + 1\n",
    "    print(\"페이지수\",pageNumber)\n",
    "    \n",
    "    if pageNumber == 11:\n",
    "        imsiUrl = url_date+'&page=11'\n",
    "        xmlsoup = urlres(imsiUrl)\n",
    "        pagePart = xmlsoup.find('div',{'class':'paging'})\n",
    "        anchorNumber = pagePart.find_all({'a':'href'})\n",
    "        pageNumber = len(anchorNumber) + 1\n",
    "        print(\"페이지수\",pageNumber)\n",
    "        \n",
    "    for page in range(1,pageNumber+1,1):\n",
    "        newDayUrl = url_date + '&page=' + str(page)\n",
    "        #print(newDayUrl)\n",
    "'''\n",
    "def fordays():\n",
    "    global days                   #전역변수를 지역 범위에서 사용하고 싶으면 global사용\n",
    "    for days in range(1,days,1):  #최대 31일까지 있기때문에 32로 설정\n",
    "            #urlstack()\n",
    "            \n",
    "\n",
    "for mons in range(1,13,1):      #최대 12얼까지 있기때문에 13으로 설정\n",
    "    if mons<10:                 #월이 10 이하일 경우 앞에 0 추가\n",
    "        Adate = '0' + str(mons)\n",
    "    else:\n",
    "        Adate = str(mons)\n",
    "    \n",
    "    if mons%2 != 0 and mons<8 or mons%2 == 0 and mons>7:     \n",
    "        days = 32 \n",
    "    elif mons == 2:                 #2월의 날짜는 혼자다름 \n",
    "        days = 28  \n",
    "    elif mons%2 ==0 and mons<7 or mons%2 !=0 and mons>8:   \n",
    "        days = 31  \n",
    "    \n",
    "    fordays()\n",
    "    print('---')"
   ]
  },
  {
   "cell_type": "code",
   "execution_count": 22,
   "metadata": {},
   "outputs": [
    {
     "ename": "SyntaxError",
     "evalue": "unexpected EOF while parsing (<ipython-input-22-680cf750a530>, line 2)",
     "output_type": "error",
     "traceback": [
      "\u001b[1;36m  File \u001b[1;32m\"<ipython-input-22-680cf750a530>\"\u001b[1;36m, line \u001b[1;32m2\u001b[0m\n\u001b[1;33m    \u001b[0m\n\u001b[1;37m    ^\u001b[0m\n\u001b[1;31mSyntaxError\u001b[0m\u001b[1;31m:\u001b[0m unexpected EOF while parsing\n"
     ]
    }
   ],
   "source": [
    "def DateNum(mon):\n",
    "    "
   ]
  },
  {
   "cell_type": "code",
   "execution_count": null,
   "metadata": {},
   "outputs": [],
   "source": []
  }
 ],
 "metadata": {
  "kernelspec": {
   "display_name": "Python 3",
   "language": "python",
   "name": "python3"
  },
  "language_info": {
   "codemirror_mode": {
    "name": "ipython",
    "version": 3
   },
   "file_extension": ".py",
   "mimetype": "text/x-python",
   "name": "python",
   "nbconvert_exporter": "python",
   "pygments_lexer": "ipython3",
   "version": "3.6.4"
  }
 },
 "nbformat": 4,
 "nbformat_minor": 2
}
